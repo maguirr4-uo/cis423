{
 "cells": [
  {
   "attachments": {},
   "cell_type": "markdown",
   "metadata": {},
   "source": [
    "# Data Wrangling"
   ]
  },
  {
   "attachments": {},
   "cell_type": "markdown",
   "metadata": {},
   "source": [
    "## Set up Function Library"
   ]
  },
  {
   "cell_type": "code",
   "execution_count": null,
   "metadata": {},
   "outputs": [],
   "source": [
    "github_name = 'maguirr4-uo'\n",
    "repo_name = 'cis423'\n",
    "source_file = 'library.py'\n",
    "url = f'https://raw.githubusercontent.com/{github_name}/{repo_name}/main/{source_file}'\n",
    "!rm $source_file\n",
    "!wget $url\n",
    "%run -i $source_file"
   ]
  },
  {
   "attachments": {},
   "cell_type": "markdown",
   "metadata": {},
   "source": [
    "## Bring in the dataset"
   ]
  },
  {
   "cell_type": "code",
   "execution_count": null,
   "metadata": {},
   "outputs": [],
   "source": [
    "url = 'https://raw.githubusercontent.com/maguirr4-uo/cis423/main/EmployeeFuture.csv'\n",
    "future_df = pd.read_csv(url)\n",
    "future_df"
   ]
  },
  {
   "cell_type": "code",
   "execution_count": null,
   "metadata": {},
   "outputs": [],
   "source": [
    "future_df['LeaveOrNot'].to_list().count(1)/len(future_df)"
   ]
  },
  {
   "attachments": {},
   "cell_type": "markdown",
   "metadata": {},
   "source": [
    "## Break down into features, labels"
   ]
  },
  {
   "cell_type": "code",
   "execution_count": null,
   "metadata": {},
   "outputs": [],
   "source": [
    "future_features = future_df.drop(columns=['LeaveOrNot'])\n",
    "labels = future_df['LeaveOrNot'].to_list()\n",
    "labels[:5]"
   ]
  },
  {
   "cell_type": "code",
   "execution_count": null,
   "metadata": {},
   "outputs": [],
   "source": [
    "future_features"
   ]
  },
  {
   "attachments": {},
   "cell_type": "markdown",
   "metadata": {},
   "source": [
    "# Defining the wrangling pipeline and transforming"
   ]
  },
  {
   "cell_type": "code",
   "execution_count": null,
   "metadata": {},
   "outputs": [],
   "source": [
    "future_transformer = Pipeline(steps=[\n",
    "    ('education', MappingTransformer('Education', {'Bachelors': 0, 'Masters': 1, 'PHD': 2})),\n",
    "    ('year', MappingTransformer('JoiningYear', {'2012': 6, '2013': 5, '2014': 4, '2015': 3, '2016': 2, '2017': 1, '2018': 0,})),\n",
    "    ('gender', MappingTransformer('Gender', {'Male': 0, 'Female': 1})),\n",
    "    ('benched', MappingTransformer('EverBenched', {'No': 0, 'Yes': 1})),\n",
    "    ('ohe', OHETransformer('City')),\n",
    "    ('age', TukeyTransformer('Age', 'outer')),\n",
    "    ('exp', TukeyTransformer('ExperienceInCurrentDomain', 'outer')),\n",
    "    ('scale', MinMaxTransformer()), \n",
    "    ], verbose=True)"
   ]
  },
  {
   "attachments": {},
   "cell_type": "markdown",
   "metadata": {},
   "source": [
    "future_transformed_df = future_transformer.fit_transform(future_features)"
   ]
  },
  {
   "cell_type": "code",
   "execution_count": null,
   "metadata": {},
   "outputs": [],
   "source": [
    "future_transformed_df"
   ]
  },
  {
   "attachments": {},
   "cell_type": "markdown",
   "metadata": {},
   "source": [
    "## Find a random state value to save"
   ]
  },
  {
   "cell_type": "code",
   "execution_count": null,
   "metadata": {},
   "outputs": [],
   "source": [
    "rs = find_random_state(future_transformed_df, labels)  #77\n",
    "rs"
   ]
  },
  {
   "attachments": {},
   "cell_type": "markdown",
   "metadata": {},
   "source": [
    "## Store the test data"
   ]
  },
  {
   "cell_type": "code",
   "execution_count": null,
   "metadata": {},
   "outputs": [],
   "source": [
    "from sklearn.model_selection import train_test_split\n",
    "\n",
    "X_train, X_test, y_train, y_test = train_test_split(future_features, labels, test_size=0.2, shuffle=True,\n",
    "                                                    random_state=rs, stratify=future_df['LeaveOrNot'])\n",
    "\n",
    "X_test.to_csv('test_df.csv', index=None)"
   ]
  },
  {
   "cell_type": "code",
   "execution_count": null,
   "metadata": {},
   "outputs": [],
   "source": [
    "X_test.head()"
   ]
  }
 ],
 "metadata": {
  "language_info": {
   "name": "python"
  },
  "orig_nbformat": 4
 },
 "nbformat": 4,
 "nbformat_minor": 2
}
